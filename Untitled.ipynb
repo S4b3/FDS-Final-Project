{
 "cells": [
  {
   "cell_type": "code",
   "execution_count": 7,
   "id": "b39d095d-1b36-444e-b726-421547d06906",
   "metadata": {},
   "outputs": [
    {
     "name": "stderr",
     "output_type": "stream",
     "text": [
      "2021-12-22 10:22:50.759300: W tensorflow/stream_executor/platform/default/dso_loader.cc:64] Could not load dynamic library 'libcudart.so.11.0'; dlerror: libcudart.so.11.0: cannot open shared object file: No such file or directory\n",
      "2021-12-22 10:22:50.759343: I tensorflow/stream_executor/cuda/cudart_stub.cc:29] Ignore above cudart dlerror if you do not have a GPU set up on your machine.\n"
     ]
    }
   ],
   "source": [
    "import os\n",
    "import numpy as np\n",
    "from os import listdir\n",
    "from matplotlib.pyplot import imread\n",
    "from skimage.transform import resize\n",
    "from tensorflow.keras.utils import to_categorical\n",
    "from sklearn.model_selection import train_test_split\n",
    "from sklearn.decomposition import PCA\n",
    "from PIL import Image\n",
    "import math\n",
    "import cv2\n",
    "import matplotlib.pyplot as plt\n",
    "from matplotlib.cm import *\n",
    "from scipy.signal import convolve2d as conv2, convolve\n",
    "from tqdm import tqdm\n",
    "import pandas as pd\n",
    "\n",
    "from joblib import Parallel, delayed\n",
    "import multiprocessing\n",
    "from multiprocessing import Pool\n",
    "from PIL import Image, ImageFilter\n",
    "\n",
    "from skimage.io import imread, imsave\n",
    "\n",
    "plt.rcParams['figure.figsize'] = (20, 8)"
   ]
  },
  {
   "cell_type": "code",
   "execution_count": 8,
   "id": "e3da4a64-d01f-4f09-999b-22a3f703bb9a",
   "metadata": {
    "id": "d2TyTcfQvmbD"
   },
   "outputs": [],
   "source": [
    "# Settings:\n",
    "img_size = 64\n",
    "grayscale_images = True\n",
    "num_class = 10\n",
    "test_size = 0.2\n",
    "\n",
    "\n",
    "def get_img(data_path):\n",
    "    # Getting image array from path:\n",
    "    img = imread(data_path)\n",
    "    img = resize(img, (img_size, img_size, 1 if grayscale_images else 3))\n",
    "    return img\n",
    "\n",
    "\n",
    "def get_dataset(dataset_path='Dataset'):\n",
    "    # Getting all data from data path:\n",
    "    try:\n",
    "        X = np.load('X.npy')\n",
    "        Y = np.load('Y.npy')\n",
    "    except:\n",
    "        labels = ['0','1','2','3','4','5','6','7','8','9']  # Geting labels\n",
    "        X = []\n",
    "        Y = []\n",
    "        for i, label in enumerate(labels):\n",
    "            datas_path = dataset_path + '/' + label\n",
    "            for data in listdir(datas_path):\n",
    "                img = get_img(datas_path + '/' + data)\n",
    "                X.append(img)\n",
    "                Y.append(i)\n",
    "        # Create dateset:\n",
    "        X = np.array(X).astype('float32')\n",
    "        Y = np.array(Y).astype('float32')\n",
    "        Y = to_categorical(Y, num_class)\n",
    "        if not os.path.exists('npy_dataset/'):\n",
    "            os.makedirs('npy_dataset/')\n",
    "        np.save('npy_dataset/X.npy', X)\n",
    "        np.save('npy_dataset/Y.npy', Y)\n",
    "    \n",
    "    X_unf = np.copy(X)    \n",
    "    X = np.array([X[i].flatten() for i in range(len(X))])\n",
    "    Y = np.where(Y==1)[1]\n",
    "    permutation = {0:9, 1:0, 2:7, 3:6, 4:1, 5:8, 6:4, 7:3, 8:2, 9:5}\n",
    "    for i in range(len(Y)):\n",
    "        Y[i] = permutation[Y[i]]\n",
    "        \n",
    "    return X, X_unf, Y\n",
    "\n",
    "\n",
    "if __name__ == '__main__':\n",
    "    X, X_unf, Y = get_dataset()"
   ]
  },
  {
   "cell_type": "code",
   "execution_count": 35,
   "id": "cef4334e-0895-4270-b314-3688d8819a6d",
   "metadata": {},
   "outputs": [],
   "source": [
    "for i in range(len(X_unf)):\n",
    "    I = cv2.normalize(X_unf[i], None, 0, 255, cv2.NORM_MINMAX, cv2.CV_8U)\n",
    "    name = f'./png/train{i}.png'\n",
    "    imsave(name, I)\n",
    "    image = Image.open(name)\n",
    "    image = image.convert(\"L\")\n",
    "    # Detecting Edges on the Image using the argument ImageFilter.FIND_EDGES\n",
    "    image = image.filter(ImageFilter.FIND_EDGES)\n",
    "    # Saving the Image Under the name test{i}.png\n",
    "    image.save(name)"
   ]
  }
 ],
 "metadata": {
  "kernelspec": {
   "display_name": "Python 3 (ipykernel)",
   "language": "python",
   "name": "python3"
  },
  "language_info": {
   "codemirror_mode": {
    "name": "ipython",
    "version": 3
   },
   "file_extension": ".py",
   "mimetype": "text/x-python",
   "name": "python",
   "nbconvert_exporter": "python",
   "pygments_lexer": "ipython3",
   "version": "3.8.10"
  }
 },
 "nbformat": 4,
 "nbformat_minor": 5
}
