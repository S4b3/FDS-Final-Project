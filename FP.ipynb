{
 "cells": [
  {
   "cell_type": "code",
   "execution_count": 50,
   "metadata": {},
   "outputs": [],
   "source": [
    "import os\n",
    "import numpy as np\n",
    "from os import listdir\n",
    "from matplotlib.pyplot import imread\n",
    "from skimage.transform import resize\n",
    "from tensorflow.keras.utils import to_categorical\n",
    "from sklearn.model_selection import train_test_split\n",
    "from PIL import Image\n",
    "import math\n",
    "import cv2\n",
    "import matplotlib.pyplot as plt\n",
    "from scipy.signal import convolve2d as conv2, convolve\n",
    "\n",
    "from joblib import Parallel, delayed\n",
    "import multiprocessing\n",
    "from multiprocessing import Pool\n",
    "\n",
    "\n",
    "plt.rcParams['figure.figsize'] = (20, 8)"
   ]
  },
  {
   "cell_type": "code",
   "execution_count": 51,
   "metadata": {},
   "outputs": [],
   "source": [
    "AVAILABLE_CPU = multiprocessing.cpu_count()"
   ]
  },
  {
   "cell_type": "code",
   "execution_count": 2,
   "metadata": {
    "id": "d2TyTcfQvmbD"
   },
   "outputs": [],
   "source": [
    "# Settings:\n",
    "img_size = 64\n",
    "grayscale_images = True\n",
    "num_class = 10\n",
    "test_size = 0.2\n",
    "\n",
    "\n",
    "def get_img(data_path):\n",
    "    # Getting image array from path:\n",
    "    img = imread(data_path)\n",
    "    img = resize(img, (img_size, img_size, 1 if grayscale_images else 3))\n",
    "    return img\n",
    "\n",
    "\n",
    "def get_dataset(dataset_path='Dataset'):\n",
    "    # Getting all data from data path:\n",
    "    try:\n",
    "        X = np.load('X.npy')\n",
    "        Y = np.load('Y.npy')\n",
    "    except:\n",
    "        labels = ['0','1','2','3','4','5','6','7','8','9']  # Geting labels\n",
    "        X = []\n",
    "        Y = []\n",
    "        for i, label in enumerate(labels):\n",
    "            datas_path = dataset_path + '/' + label\n",
    "            for data in listdir(datas_path):\n",
    "                img = get_img(datas_path + '/' + data)\n",
    "                X.append(img)\n",
    "                Y.append(i)\n",
    "        # Create dateset:\n",
    "        X = np.array(X).astype('float32')\n",
    "        Y = np.array(Y).astype('float32')\n",
    "        Y = to_categorical(Y, num_class)\n",
    "        if not os.path.exists('npy_dataset/'):\n",
    "            os.makedirs('npy_dataset/')\n",
    "        np.save('npy_dataset/X.npy', X)\n",
    "        np.save('npy_dataset/Y.npy', Y)\n",
    "    X, X_test, Y, Y_test = train_test_split(X, Y, test_size=test_size, random_state=42)\n",
    "    return X, X_test, Y, Y_test\n",
    "\n",
    "\n",
    "if __name__ == '__main__':\n",
    "    X, X_test, Y, Y_test = get_dataset()"
   ]
  },
  {
   "cell_type": "code",
   "execution_count": 3,
   "metadata": {},
   "outputs": [],
   "source": [
    "def custom():\n",
    "    \n",
    "    Gx = np.array([[-0.25, -0.55, -0.25],[-0.55, 0.9, -0.55], [-0.25, -0.55,-0.25]] )\n",
    "    return Gx"
   ]
  },
  {
   "cell_type": "code",
   "execution_count": 4,
   "metadata": {},
   "outputs": [],
   "source": [
    "def customfiltering(img):\n",
    "\n",
    "    custom_filter = custom()\n",
    "    smooth_img = conv2(img, custom_filter,mode='same', boundary = 'fill')\n",
    "    return np.array(smooth_img)"
   ]
  },
  {
   "cell_type": "code",
   "execution_count": 5,
   "metadata": {},
   "outputs": [],
   "source": [
    "# cleaning\n",
    "subset = [0,1,2,3,4,5,6,7,8,9,10,53,54,55,56,57,58,59,60,61,62,63]\n",
    "def cleaning(img, rows):\n",
    "    for row in rows:\n",
    "        img[row][0:10] = 1\n",
    "        img[row][53:64] = 1\n",
    "    return img"
   ]
  },
  {
   "cell_type": "code",
   "execution_count": 6,
   "metadata": {},
   "outputs": [],
   "source": [
    "def rgb2gray(rgb):\n",
    "    '''\n",
    "    RGB -> gray_scale\n",
    "    '''\n",
    "    r, g, b = rgb[:,:,0], rgb[:,:,1], rgb[:,:,2]\n",
    "    gray = 0.2989 * r + 0.5870 * g + 0.1140 * b\n",
    "    return gray"
   ]
  },
  {
   "cell_type": "code",
   "execution_count": 43,
   "metadata": {},
   "outputs": [],
   "source": [
    "def clean_image(image, threshold = 0.5, new_size_tuple = (64,64)):\n",
    "    new_img = []\n",
    "    for el in image.flat: \n",
    "        if el > threshold: new_img.append(1)\n",
    "        else: new_img.append(0)\n",
    "        \n",
    "    return np.array(new_img).reshape(new_size_tuple)"
   ]
  },
  {
   "cell_type": "code",
   "execution_count": 44,
   "metadata": {
    "tags": []
   },
   "outputs": [],
   "source": [
    "img = X[1]\n",
    "    \n",
    "new_img = clean_image(img)"
   ]
  },
  {
   "cell_type": "code",
   "execution_count": 45,
   "metadata": {},
   "outputs": [
    {
     "data": {
      "image/png": "[encoded data removed]",
      "text/plain": [
       "<Figure size 1440x576 with 2 Axes>"
      ]
     },
     "metadata": {
      "needs_background": "light"
     },
     "output_type": "display_data"
    }
   ],
   "source": [
    "img = cleaning(new_img, subset)\n",
    "smooth_img = customfiltering(img)\n",
    "#print(smooth_img.shape)\n",
    "plt.figure(2)\n",
    "ax1 = plt.subplot(1,2,1)\n",
    "ax1.set_xlabel('Input Image')\n",
    "ax2 = plt.subplot(1,2,2)\n",
    "ax2.set_xlabel('Custom Filtered Image')\n",
    "plt.sca(ax1)\n",
    "plt.imshow(img, cmap='gray')\n",
    "plt.sca(ax2)\n",
    "plt.imshow(smooth_img, cmap='gray')\n",
    "plt.show()"
   ]
  },
  {
   "cell_type": "code",
   "execution_count": 142,
   "metadata": {},
   "outputs": [
    {
     "name": "stdout",
     "output_type": "stream",
     "text": [
      "{'5': 0.10309278350515441, '9': 0.09763493026076389, '6': 0.10066707095209196, '0': 0.09945421467556073, '8': 0.09763493026076389, '2': 0.09460278956943582, '3': 0.10430563978168564, '7': 0.10187992722862318, '4': 0.10551849605821687, '1': 0.09520921770770144}\n"
     ]
    }
   ],
   "source": [
    "# let's split the dataset into relative matrix\n",
    "\n",
    "y_v_amounts = {}\n",
    "priorsDictionary = {}\n",
    "tot_y = len(Y)\n",
    "\n",
    "# compute priors\n",
    "for y_i in Y:\n",
    "\n",
    "    idx = str(np.where(y_i == 1)[0][0])\n",
    "\n",
    "    if(idx in list(priorsDictionary.keys())):\n",
    "        y_v_amounts[idx] += 1\n",
    "        priorsDictionary[idx] += 1/tot_y\n",
    "    else:\n",
    "        y_v_amounts[idx] = 1\n",
    "        priorsDictionary[idx] = 1/tot_y\n",
    "\n",
    "print(priorsDictionary)\n",
    "\n",
    "vals = list(priorsDictionary.values())\n",
    "assert(np.round(np.sum(vals)) == 1), f\"Priors don't sum up to 1! Their sum is...: {np.sum(vals)}\""
   ]
  },
  {
   "cell_type": "code",
   "execution_count": 143,
   "metadata": {},
   "outputs": [],
   "source": [
    "def compute_ground_matrix_couple(index, y_i, X):\n",
    "    '''\n",
    "    This takes as input the index of a groundtruth and the groundtruth itself aswell as the dataset.\n",
    "    First it finds the image in position [y_i], \n",
    "    it then computes its cleaned matrix and returns it as a key value pair.\n",
    "    '''\n",
    "    \n",
    "    ground_truth = str(np.where(y_i == 1)[0][0])\n",
    "    image = clean_image(X[index])\n",
    "    print(f\"image {image}\")\n",
    "    return (ground_truth, image)\n",
    "\n",
    "\n",
    "def matrix_addition(A, B) :\n",
    "    return [[A[i][j] + B[i][j]  for j in range(len(A[0]))] for i in range(len(A))]\n",
    "\n",
    "\n",
    "\n",
    "def compute_posteriors_mt(Y, X, counts):\n",
    "    '''\n",
    "    This works similar to a map reduce approach:\n",
    "    it finds every image for every ground truth and then zips them into a singular one which becomes of probabilities.\n",
    "    '''\n",
    "    results = Parallel(n_jobs = AVAILABLE_CPU)(delayed(lambda index, y_i : compute_ground_matrix_couple(index, y_i, X))(index, y_i) for index, y_i in enumerate(Y))\n",
    "\n",
    "    posteriors = {str(x):np.zeros((64,64)) for x, _ in results}\n",
    "\n",
    "    for g_truth, matrix in results: posteriors[str(g_truth)] = matrix_addition(matrix, posteriors[str(g_truth)])\n",
    "    for g_truth, matrix in posteriors.items() :\n",
    "        posteriors[str(g_truth)] = np.divide(matrix , counts[str(g_truth)])\n",
    "   \n",
    "    return posteriors\n",
    "\n",
    "  \n",
    "# using map\n",
    "\n",
    "    \n",
    "    "
   ]
  },
  {
   "cell_type": "code",
   "execution_count": 144,
   "metadata": {},
   "outputs": [],
   "source": [
    "posteriorsDict = {}\n",
    "# initialize posteriors matrixes\n",
    "for key in priorsDictionary.keys():\n",
    "    posteriorsDict[key] = np.array(X[0].shape)\n",
    "\n",
    "# compute posteriors for every image in the dataset\n",
    "posteriors = compute_posteriors_mt(Y,X, y_v_amounts)\n",
    "\n"
   ]
  },
  {
   "cell_type": "markdown",
   "metadata": {},
   "source": [
    "C'è qualcosa che non va con i posteriors lol scusate"
   ]
  },
  {
   "cell_type": "code",
   "execution_count": 152,
   "metadata": {},
   "outputs": [
    {
     "data": {
      "image/png": "[encoded data removed]",
      "text/plain": [
       "<Figure size 1440x576 with 2 Axes>"
      ]
     },
     "metadata": {
      "needs_background": "light"
     },
     "output_type": "display_data"
    }
   ],
   "source": [
    "image_0 = cleaning(X[20], subset)\n",
    "#print(smooth_img.shape)\n",
    "plt.figure(2)\n",
    "ax1 = plt.subplot(1,2,1)\n",
    "ax1.set_xlabel('Input Image')\n",
    "ax2 = plt.subplot(1,2,2)\n",
    "ax2.set_xlabel('Probability Pixels Plot')\n",
    "plt.sca(ax1)\n",
    "plt.imshow(image_0, cmap='gray')\n",
    "plt.sca(ax2)\n",
    "plt.imshow(posteriors['4'], cmap='gray')\n",
    "plt.show()"
   ]
  },
  {
   "cell_type": "code",
   "execution_count": null,
   "metadata": {},
   "outputs": [],
   "source": []
  }
 ],
 "metadata": {
  "application/vnd.databricks.v1+notebook": {
   "dashboards": [],
   "language": "python",
   "notebookMetadata": {
    "pythonIndentUnit": 2
   },
   "notebookName": "Classification",
   "notebookOrigID": 3966539020232142,
   "widgets": {}
  },
  "colab": {
   "collapsed_sections": [],
   "machine_shape": "hm",
   "name": "crack.ipynb",
   "provenance": []
  },
  "kernelspec": {
   "display_name": "Python 3 (ipykernel)",
   "language": "python",
   "name": "python3"
  },
  "language_info": {
   "codemirror_mode": {
    "name": "ipython",
    "version": 3
   },
   "file_extension": ".py",
   "mimetype": "text/x-python",
   "name": "python",
   "nbconvert_exporter": "python",
   "pygments_lexer": "ipython3",
   "version": "3.9.7"
  }
 },
 "nbformat": 4,
 "nbformat_minor": 4
}
