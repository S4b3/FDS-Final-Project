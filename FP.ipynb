{
 "cells": [
  {
   "cell_type": "code",
   "execution_count": 161,
   "metadata": {},
   "outputs": [],
   "source": [
    "import os\n",
    "import numpy as np\n",
    "from os import listdir\n",
    "from matplotlib.pyplot import imread\n",
    "from skimage.transform import resize\n",
    "from tensorflow.keras.utils import to_categorical\n",
    "from sklearn.model_selection import train_test_split\n",
    "from PIL import Image\n",
    "import math\n",
    "import cv2\n",
    "import matplotlib.pyplot as plt\n",
    "from scipy.signal import convolve2d as conv2, convolve\n",
    "\n",
    "plt.rcParams['figure.figsize'] = (20, 8)"
   ]
  },
  {
   "cell_type": "code",
   "execution_count": 37,
   "metadata": {
    "id": "d2TyTcfQvmbD"
   },
   "outputs": [],
   "source": [
    "# Settings:\n",
    "img_size = 64\n",
    "grayscale_images = True\n",
    "num_class = 10\n",
    "test_size = 0.2\n",
    "\n",
    "\n",
    "def get_img(data_path):\n",
    "    # Getting image array from path:\n",
    "    img = imread(data_path)\n",
    "    img = resize(img, (img_size, img_size, 1 if grayscale_images else 3))\n",
    "    return img\n",
    "\n",
    "\n",
    "def get_dataset(dataset_path='Dataset'):\n",
    "    # Getting all data from data path:\n",
    "    try:\n",
    "        X = np.load('X.npy')\n",
    "        Y = np.load('Y.npy')\n",
    "    except:\n",
    "        labels = ['0','1','2','3','4','5','6','7','8','9']  # Geting labels\n",
    "        X = []\n",
    "        Y = []\n",
    "        for i, label in enumerate(labels):\n",
    "            datas_path = dataset_path + '/' + label\n",
    "            for data in listdir(datas_path):\n",
    "                img = get_img(datas_path + '/' + data)\n",
    "                X.append(img)\n",
    "                Y.append(i)\n",
    "        # Create dateset:\n",
    "        X = X = np.array(X).astype('float32')\n",
    "        Y = np.array(Y).astype('float32')\n",
    "        Y = to_categorical(Y, num_class)\n",
    "        if not os.path.exists('npy_dataset/'):\n",
    "            os.makedirs('npy_dataset/')\n",
    "        np.save('npy_dataset/X.npy', X)\n",
    "        np.save('npy_dataset/Y.npy', Y)\n",
    "    X, X_test, Y, Y_test = train_test_split(X, Y, test_size=test_size, random_state=42)\n",
    "    return X, X_test, Y, Y_test\n",
    "\n",
    "\n",
    "if __name__ == '__main__':\n",
    "    X, X_test, Y, Y_test = get_dataset()"
   ]
  },
  {
   "cell_type": "code",
   "execution_count": 79,
   "metadata": {},
   "outputs": [],
   "source": [
    "def custom():\n",
    "    \n",
    "    Gx = np.array([[-0.25, -0.55, -0.25],[-0.55, 0.9, -0.55], [-0.25, -0.55,-0.25]] )\n",
    "    return Gx"
   ]
  },
  {
   "cell_type": "code",
   "execution_count": 80,
   "metadata": {},
   "outputs": [],
   "source": [
    "def customfiltering(img):\n",
    "\n",
    "    custom_filter = custom()\n",
    "    smooth_img = conv2(img, custom_filter,mode='same', boundary = 'fill')\n",
    "    return np.array(smooth_img)"
   ]
  },
  {
   "cell_type": "code",
   "execution_count": 194,
   "metadata": {},
   "outputs": [],
   "source": [
    "# cleaning\n",
    "subset = [0,1,2,3,4,5,6,7,8,9,10,53,54,55,56,57,58,59,60,61,62,63]\n",
    "def cleaning(img, rows):\n",
    "    for row in rows:\n",
    "        img[row][0:10] = 1\n",
    "        img[row][53:64] = 1\n",
    "    return img"
   ]
  },
  {
   "cell_type": "code",
   "execution_count": 42,
   "metadata": {},
   "outputs": [],
   "source": [
    "def rgb2gray(rgb):\n",
    "    '''\n",
    "    RGB -> gray_scale\n",
    "    '''\n",
    "    r, g, b = rgb[:,:,0], rgb[:,:,1], rgb[:,:,2]\n",
    "    gray = 0.2989 * r + 0.5870 * g + 0.1140 * b\n",
    "    return gray"
   ]
  },
  {
   "cell_type": "code",
   "execution_count": 201,
   "metadata": {
    "tags": []
   },
   "outputs": [],
   "source": [
    "img = X[2]\n",
    "new_img = []\n",
    "threshold = 0.5\n",
    "for el in img.flat: \n",
    "    if el > threshold: new_img.append(1)\n",
    "    else: new_img.append(0)\n",
    "    \n",
    "new_img = np.array(new_img).reshape(64, 64)"
   ]
  },
  {
   "cell_type": "code",
   "execution_count": 202,
   "metadata": {},
   "outputs": [
    {
     "data": {
      "image/png": "[encoded data removed]",
      "text/plain": [
       "<Figure size 1440x576 with 2 Axes>"
      ]
     },
     "metadata": {
      "needs_background": "light"
     },
     "output_type": "display_data"
    }
   ],
   "source": [
    "img = cleaning(new_img, subset)\n",
    "smooth_img = customfiltering(img)\n",
    "#print(smooth_img.shape)\n",
    "plt.figure(2)\n",
    "ax1 = plt.subplot(1,2,1)\n",
    "ax1.set_xlabel('Input Image')\n",
    "ax2 = plt.subplot(1,2,2)\n",
    "ax2.set_xlabel('Custom Filtered Image')\n",
    "plt.sca(ax1)\n",
    "plt.imshow(img, cmap='gray')\n",
    "plt.sca(ax2)\n",
    "plt.imshow(smooth_img, cmap='gray')\n",
    "plt.show()"
   ]
  }
 ],
 "metadata": {
  "application/vnd.databricks.v1+notebook": {
   "dashboards": [],
   "language": "python",
   "notebookMetadata": {
    "pythonIndentUnit": 2
   },
   "notebookName": "Classification",
   "notebookOrigID": 3966539020232142,
   "widgets": {}
  },
  "colab": {
   "collapsed_sections": [],
   "machine_shape": "hm",
   "name": "crack.ipynb",
   "provenance": []
  },
  "kernelspec": {
   "display_name": "Python 3 (ipykernel)",
   "language": "python",
   "name": "python3"
  },
  "language_info": {
   "codemirror_mode": {
    "name": "ipython",
    "version": 3
   },
   "file_extension": ".py",
   "mimetype": "text/x-python",
   "name": "python",
   "nbconvert_exporter": "python",
   "pygments_lexer": "ipython3",
   "version": "3.8.10"
  }
 },
 "nbformat": 4,
 "nbformat_minor": 4
}
